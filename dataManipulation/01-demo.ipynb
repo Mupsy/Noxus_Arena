{
 "cells": [
  {
   "metadata": {},
   "cell_type": "markdown",
   "source": [
    "# Intro à la DataScience\n",
    "\n",
    "## Sommaire\n",
    "- Introduction aux notebooks Jupyter\n",
    "- Introduction à Pandas"
   ],
   "id": "92ece1a4688a299e"
  },
  {
   "metadata": {
    "ExecuteTime": {
     "end_time": "2025-03-17T08:57:08.071131Z",
     "start_time": "2025-03-17T08:57:08.068693Z"
    }
   },
   "cell_type": "code",
   "source": [
    " x1 = 6 + 9\n",
    " print(x1)"
   ],
   "id": "71359ffc851c9de8",
   "outputs": [
    {
     "name": "stdout",
     "output_type": "stream",
     "text": [
      "15\n"
     ]
    }
   ],
   "execution_count": 7
  },
  {
   "metadata": {},
   "cell_type": "markdown",
   "source": "Si on met une variable en dernière instruction, elle sera proprement affichée.",
   "id": "939fc38ead34ff71"
  },
  {
   "metadata": {
    "ExecuteTime": {
     "end_time": "2025-03-17T08:57:08.166177Z",
     "start_time": "2025-03-17T08:57:08.161871Z"
    }
   },
   "cell_type": "code",
   "source": "x1",
   "id": "9ffdce3b7ad46252",
   "outputs": [
    {
     "data": {
      "text/plain": [
       "15"
      ]
     },
     "execution_count": 8,
     "metadata": {},
     "output_type": "execute_result"
    }
   ],
   "execution_count": 8
  },
  {
   "metadata": {
    "ExecuteTime": {
     "end_time": "2025-03-17T09:05:31.387308Z",
     "start_time": "2025-03-17T09:05:31.383330Z"
    }
   },
   "cell_type": "code",
   "source": [
    "items = [12, -2, 23]\n",
    "[x for x in items if x % 2 == 0]"
   ],
   "id": "25fd3865188ed392",
   "outputs": [
    {
     "name": "stdout",
     "output_type": "stream",
     "text": [
      "10\n"
     ]
    }
   ],
   "execution_count": 12
  },
  {
   "metadata": {},
   "cell_type": "markdown",
   "source": [
    "## Pandas\n",
    "\n",
    "- En Général, on alias `pd` (`ìmport pandas as pd`)\n",
    "- Structure de données : **Series** et **DataFrame**\n",
    "- **Series** : tableau 1D\n",
    "- **DataFrame** : tableau 2D\n",
    "  - Ses données peuvent être définies via un dictionnaire où chaque colonne est représentée par un couple clé-valeur.\n",
    "  - Pour une colonne, la clé est le nom de la colonne et la valeur est une liste de valeurs.\n"
   ],
   "id": "a02dabf7e41c649f"
  },
  {
   "metadata": {
    "ExecuteTime": {
     "end_time": "2025-03-17T09:07:16.055387Z",
     "start_time": "2025-03-17T09:07:16.048914Z"
    }
   },
   "cell_type": "code",
   "source": [
    "import pandas as pd\n",
    "\n",
    "datas = {\n",
    "    \"Année\" : range(2010, 2020),\n",
    "    \"Ventes\" : [5, 0, 9, 32, 6, 8, 20, 17, 3, 9]\n",
    "}\n",
    "\n",
    "df = pd.DataFrame(datas)\n",
    "df.head()"
   ],
   "id": "e5f3ad3ce7b434bf",
   "outputs": [
    {
     "data": {
      "text/plain": [
       "   Année  Ventes\n",
       "0   2010       5\n",
       "1   2011       0\n",
       "2   2012       9\n",
       "3   2013      32\n",
       "4   2014       6"
      ],
      "text/html": [
       "<div>\n",
       "<style scoped>\n",
       "    .dataframe tbody tr th:only-of-type {\n",
       "        vertical-align: middle;\n",
       "    }\n",
       "\n",
       "    .dataframe tbody tr th {\n",
       "        vertical-align: top;\n",
       "    }\n",
       "\n",
       "    .dataframe thead th {\n",
       "        text-align: right;\n",
       "    }\n",
       "</style>\n",
       "<table border=\"1\" class=\"dataframe\">\n",
       "  <thead>\n",
       "    <tr style=\"text-align: right;\">\n",
       "      <th></th>\n",
       "      <th>Année</th>\n",
       "      <th>Ventes</th>\n",
       "    </tr>\n",
       "  </thead>\n",
       "  <tbody>\n",
       "    <tr>\n",
       "      <th>0</th>\n",
       "      <td>2010</td>\n",
       "      <td>5</td>\n",
       "    </tr>\n",
       "    <tr>\n",
       "      <th>1</th>\n",
       "      <td>2011</td>\n",
       "      <td>0</td>\n",
       "    </tr>\n",
       "    <tr>\n",
       "      <th>2</th>\n",
       "      <td>2012</td>\n",
       "      <td>9</td>\n",
       "    </tr>\n",
       "    <tr>\n",
       "      <th>3</th>\n",
       "      <td>2013</td>\n",
       "      <td>32</td>\n",
       "    </tr>\n",
       "    <tr>\n",
       "      <th>4</th>\n",
       "      <td>2014</td>\n",
       "      <td>6</td>\n",
       "    </tr>\n",
       "  </tbody>\n",
       "</table>\n",
       "</div>"
      ]
     },
     "execution_count": 16,
     "metadata": {},
     "output_type": "execute_result"
    }
   ],
   "execution_count": 16
  },
  {
   "metadata": {
    "ExecuteTime": {
     "end_time": "2025-03-17T09:10:40.155223Z",
     "start_time": "2025-03-17T09:10:40.151281Z"
    }
   },
   "cell_type": "code",
   "source": "df.Année[9]",
   "id": "7db77218870cbdf1",
   "outputs": [
    {
     "data": {
      "text/plain": [
       "np.int64(2019)"
      ]
     },
     "execution_count": 19,
     "metadata": {},
     "output_type": "execute_result"
    }
   ],
   "execution_count": 19
  },
  {
   "metadata": {
    "ExecuteTime": {
     "end_time": "2025-03-17T09:10:46.480883Z",
     "start_time": "2025-03-17T09:10:46.469300Z"
    }
   },
   "cell_type": "code",
   "source": "df.describe()",
   "id": "47d8103e087374f",
   "outputs": [
    {
     "data": {
      "text/plain": [
       "            Année     Ventes\n",
       "count    10.00000  10.000000\n",
       "mean   2014.50000  10.900000\n",
       "std       3.02765   9.550451\n",
       "min    2010.00000   0.000000\n",
       "25%    2012.25000   5.250000\n",
       "50%    2014.50000   8.500000\n",
       "75%    2016.75000  15.000000\n",
       "max    2019.00000  32.000000"
      ],
      "text/html": [
       "<div>\n",
       "<style scoped>\n",
       "    .dataframe tbody tr th:only-of-type {\n",
       "        vertical-align: middle;\n",
       "    }\n",
       "\n",
       "    .dataframe tbody tr th {\n",
       "        vertical-align: top;\n",
       "    }\n",
       "\n",
       "    .dataframe thead th {\n",
       "        text-align: right;\n",
       "    }\n",
       "</style>\n",
       "<table border=\"1\" class=\"dataframe\">\n",
       "  <thead>\n",
       "    <tr style=\"text-align: right;\">\n",
       "      <th></th>\n",
       "      <th>Année</th>\n",
       "      <th>Ventes</th>\n",
       "    </tr>\n",
       "  </thead>\n",
       "  <tbody>\n",
       "    <tr>\n",
       "      <th>count</th>\n",
       "      <td>10.00000</td>\n",
       "      <td>10.000000</td>\n",
       "    </tr>\n",
       "    <tr>\n",
       "      <th>mean</th>\n",
       "      <td>2014.50000</td>\n",
       "      <td>10.900000</td>\n",
       "    </tr>\n",
       "    <tr>\n",
       "      <th>std</th>\n",
       "      <td>3.02765</td>\n",
       "      <td>9.550451</td>\n",
       "    </tr>\n",
       "    <tr>\n",
       "      <th>min</th>\n",
       "      <td>2010.00000</td>\n",
       "      <td>0.000000</td>\n",
       "    </tr>\n",
       "    <tr>\n",
       "      <th>25%</th>\n",
       "      <td>2012.25000</td>\n",
       "      <td>5.250000</td>\n",
       "    </tr>\n",
       "    <tr>\n",
       "      <th>50%</th>\n",
       "      <td>2014.50000</td>\n",
       "      <td>8.500000</td>\n",
       "    </tr>\n",
       "    <tr>\n",
       "      <th>75%</th>\n",
       "      <td>2016.75000</td>\n",
       "      <td>15.000000</td>\n",
       "    </tr>\n",
       "    <tr>\n",
       "      <th>max</th>\n",
       "      <td>2019.00000</td>\n",
       "      <td>32.000000</td>\n",
       "    </tr>\n",
       "  </tbody>\n",
       "</table>\n",
       "</div>"
      ]
     },
     "execution_count": 20,
     "metadata": {},
     "output_type": "execute_result"
    }
   ],
   "execution_count": 20
  },
  {
   "metadata": {
    "ExecuteTime": {
     "end_time": "2025-03-17T09:14:54.819191Z",
     "start_time": "2025-03-17T09:14:54.810924Z"
    }
   },
   "cell_type": "code",
   "source": [
    "df[\"Ventes 2\"] = [5, 5, 5, 5, 5, 5, 5, 5, 6, 4]\n",
    "df.describe()"
   ],
   "id": "545cb79943c07708",
   "outputs": [
    {
     "data": {
      "text/plain": [
       "            Année     Ventes   Ventes 2\n",
       "count    10.00000  10.000000  10.000000\n",
       "mean   2014.50000  10.900000   5.000000\n",
       "std       3.02765   9.550451   0.471405\n",
       "min    2010.00000   0.000000   4.000000\n",
       "25%    2012.25000   5.250000   5.000000\n",
       "50%    2014.50000   8.500000   5.000000\n",
       "75%    2016.75000  15.000000   5.000000\n",
       "max    2019.00000  32.000000   6.000000"
      ],
      "text/html": [
       "<div>\n",
       "<style scoped>\n",
       "    .dataframe tbody tr th:only-of-type {\n",
       "        vertical-align: middle;\n",
       "    }\n",
       "\n",
       "    .dataframe tbody tr th {\n",
       "        vertical-align: top;\n",
       "    }\n",
       "\n",
       "    .dataframe thead th {\n",
       "        text-align: right;\n",
       "    }\n",
       "</style>\n",
       "<table border=\"1\" class=\"dataframe\">\n",
       "  <thead>\n",
       "    <tr style=\"text-align: right;\">\n",
       "      <th></th>\n",
       "      <th>Année</th>\n",
       "      <th>Ventes</th>\n",
       "      <th>Ventes 2</th>\n",
       "    </tr>\n",
       "  </thead>\n",
       "  <tbody>\n",
       "    <tr>\n",
       "      <th>count</th>\n",
       "      <td>10.00000</td>\n",
       "      <td>10.000000</td>\n",
       "      <td>10.000000</td>\n",
       "    </tr>\n",
       "    <tr>\n",
       "      <th>mean</th>\n",
       "      <td>2014.50000</td>\n",
       "      <td>10.900000</td>\n",
       "      <td>5.000000</td>\n",
       "    </tr>\n",
       "    <tr>\n",
       "      <th>std</th>\n",
       "      <td>3.02765</td>\n",
       "      <td>9.550451</td>\n",
       "      <td>0.471405</td>\n",
       "    </tr>\n",
       "    <tr>\n",
       "      <th>min</th>\n",
       "      <td>2010.00000</td>\n",
       "      <td>0.000000</td>\n",
       "      <td>4.000000</td>\n",
       "    </tr>\n",
       "    <tr>\n",
       "      <th>25%</th>\n",
       "      <td>2012.25000</td>\n",
       "      <td>5.250000</td>\n",
       "      <td>5.000000</td>\n",
       "    </tr>\n",
       "    <tr>\n",
       "      <th>50%</th>\n",
       "      <td>2014.50000</td>\n",
       "      <td>8.500000</td>\n",
       "      <td>5.000000</td>\n",
       "    </tr>\n",
       "    <tr>\n",
       "      <th>75%</th>\n",
       "      <td>2016.75000</td>\n",
       "      <td>15.000000</td>\n",
       "      <td>5.000000</td>\n",
       "    </tr>\n",
       "    <tr>\n",
       "      <th>max</th>\n",
       "      <td>2019.00000</td>\n",
       "      <td>32.000000</td>\n",
       "      <td>6.000000</td>\n",
       "    </tr>\n",
       "  </tbody>\n",
       "</table>\n",
       "</div>"
      ]
     },
     "execution_count": 23,
     "metadata": {},
     "output_type": "execute_result"
    }
   ],
   "execution_count": 23
  },
  {
   "metadata": {},
   "cell_type": "markdown",
   "source": [
    "## Matplotlib\n",
    "\n",
    "- Généralement, on alias `plt` (`import matplotlib.pyplot as plt`)\n",
    "- Permet de faire des graphiques interactifs\n",
    "- Pandas permet facilement de faire des graphiques"
   ],
   "id": "b44791ef32e16e6"
  },
  {
   "metadata": {
    "ExecuteTime": {
     "end_time": "2025-03-17T09:18:34.648697Z",
     "start_time": "2025-03-17T09:18:34.604886Z"
    }
   },
   "cell_type": "code",
   "source": [
    "import matplotlib.pyplot as plt\n",
    "\n",
    "plt.plot(df[\"Année\"], df[\"Ventes\"])\n",
    "plt.show()"
   ],
   "id": "5da43600685c4033",
   "outputs": [
    {
     "data": {
      "text/plain": [
       "<Figure size 640x480 with 1 Axes>"
      ],
      "image/png": "[encoded data removed]"
     },
     "metadata": {},
     "output_type": "display_data"
    }
   ],
   "execution_count": 25
  },
  {
   "metadata": {
    "ExecuteTime": {
     "end_time": "2025-03-17T09:22:31.633930Z",
     "start_time": "2025-03-17T09:22:31.581248Z"
    }
   },
   "cell_type": "code",
   "source": [
    "plt.plot(df[\"Année\"], df[\"Ventes\"], marker=\"o\")\n",
    "plt.title(\"Ventes par année\")\n",
    "plt.xlabel(\"Années\")\n",
    "plt.ylabel(\"Ventes\")\n",
    "plt.grid(True)\n",
    "plt.show()"
   ],
   "id": "79150863685385c6",
   "outputs": [
    {
     "data": {
      "text/plain": [
       "<Figure size 640x480 with 1 Axes>"
      ],
      "image/png": "[encoded data removed]"
     },
     "metadata": {},
     "output_type": "display_data"
    }
   ],
   "execution_count": 31
  },
  {
   "metadata": {},
   "cell_type": "code",
   "outputs": [],
   "execution_count": null,
   "source": "",
   "id": "a0b5590e67154c7e"
  }
 ],
 "metadata": {
  "kernelspec": {
   "display_name": "Python 3",
   "language": "python",
   "name": "python3"
  },
  "language_info": {
   "codemirror_mode": {
    "name": "ipython",
    "version": 2
   },
   "file_extension": ".py",
   "mimetype": "text/x-python",
   "name": "python",
   "nbconvert_exporter": "python",
   "pygments_lexer": "ipython2",
   "version": "2.7.6"
  }
 },
 "nbformat": 4,
 "nbformat_minor": 5
}
